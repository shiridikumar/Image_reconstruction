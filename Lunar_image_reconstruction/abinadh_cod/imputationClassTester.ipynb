{
 "cells": [
  {
   "cell_type": "code",
   "execution_count": 1,
   "metadata": {},
   "outputs": [],
   "source": [
    "import cv2\n",
    "import glob\n",
    "import pandas as pd\n",
    "import numpy as np\n",
    "from imputation import Imputation\n",
    "from geotiff import GeoTiff as gt\n",
    "from osgeo import gdal, ogr"
   ]
  },
  {
   "cell_type": "code",
   "execution_count": 2,
   "metadata": {},
   "outputs": [],
   "source": [
    "# import helpers\n",
    "\n",
    "# corr_folder = [file for file in glob.glob(\"./bad/*\")]\n",
    "# corr = []\n",
    "# for file_name in corr_folder:\n",
    "#     image = cv2.imread(file_name)\n",
    "#     img = cv2.cvtColor(image, cv2.COLOR_BGR2RGB)\n",
    "#     # with io.open(file_name, 'rb') as image_file:\n",
    "#     #     content = image_file.read()\n",
    "#     corr.append(img)\n",
    "\n",
    "\n",
    "# orig_folder = [file for file in glob.glob(\"./good/*\")]\n",
    "# orig = []\n",
    "# for file_name in corr_folder:\n",
    "#     image = cv2.imread(file_name)\n",
    "#     img = cv2.cvtColor(image, cv2.COLOR_BGR2RGB)\n",
    "#     # with io.open(file_name, 'rb') as image_file:\n",
    "#     #     content = image_file.read()\n",
    "#     orig.append(img)\n",
    "\n",
    "# corr = np.array(corr)\n",
    "# orig = np.array(orig)\n",
    "# cmt_arr = []\n",
    "# cp_arr = []\n",
    "\n",
    "def readTIF(path):\n",
    "    dataset = gdal.Open(path)\n",
    "    print(dataset.RasterCount)\n",
    "    geotrans=dataset.GetGeoTransform()\n",
    "    proj=dataset.GetProjection()\n",
    "    image=dataset.ReadAsArray()\n",
    "    return (geotrans,proj,image)\n",
    "\n"
   ]
  },
  {
   "cell_type": "code",
   "execution_count": 3,
   "metadata": {},
   "outputs": [],
   "source": [
    "# for i in range(len(corr)):\n",
    "#     imp = Imputation(np.array(corr[i]))\n",
    "#     imp.generate_mask()\n",
    "#     imp.impute(speed=\"fast\",skip_vis=1)\n",
    "#     cmt_arr.append(helpers.MSE(imp.cmtf,orig[i]))\n",
    "#     cp_arr.append(helpers.MSE(imp.cpals,orig[i]))\n"
   ]
  },
  {
   "cell_type": "code",
   "execution_count": 4,
   "metadata": {},
   "outputs": [],
   "source": [
    "# #RESULTS\n",
    "# print(cmt_arr)\n",
    "# print(cp_arr)\n",
    "# print('')"
   ]
  },
  {
   "cell_type": "code",
   "execution_count": 5,
   "metadata": {},
   "outputs": [],
   "source": [
    "# df = pd.read_csv('../MISC/test.tsv', sep='\\t', header=None)\n",
    "# imp = Imputation(df)"
   ]
  },
  {
   "cell_type": "code",
   "execution_count": 6,
   "metadata": {},
   "outputs": [
    {
     "name": "stdout",
     "output_type": "stream",
     "text": [
      "9\n"
     ]
    }
   ],
   "source": [
    "tifread = readTIF('/home/shiridi/research_work/Lunar_image_reconstruction/kaguya_dataset_striped/Area1_MI_MAP_03_N22E196N21E197SC.tif')\n",
    "img = tifread[-1]\n",
    "\n",
    "imp = Imputation(img)\n",
    "# print(tifread.read())"
   ]
  },
  {
   "cell_type": "code",
   "execution_count": 7,
   "metadata": {},
   "outputs": [],
   "source": [
    "# [IMP] need to use this function to set\n",
    "# the brightness for interactive parts/visualization\n",
    "imp.set_brightness(0.0007) # 1 1000 100 0.1\n",
    "# imp.show_img(imp.img)"
   ]
  },
  {
   "cell_type": "code",
   "execution_count": 8,
   "metadata": {},
   "outputs": [
    {
     "data": {
      "text/plain": [
       "array([[ True,  True,  True, ...,  True,  True,  True],\n",
       "       [ True,  True,  True, ...,  True,  True,  True],\n",
       "       [ True,  True,  True, ...,  True,  True,  True],\n",
       "       ...,\n",
       "       [ True,  True,  True, ...,  True,  True,  True],\n",
       "       [ True,  True,  True, ...,  True,  True,  True],\n",
       "       [ True,  True,  True, ...,  True,  True,  True]])"
      ]
     },
     "execution_count": 8,
     "metadata": {},
     "output_type": "execute_result"
    }
   ],
   "source": [
    "# MASK: 1 for valid pixel, 0 for missing pixels\n",
    "\n",
    "# imp.generate_mask(threshold): this threshold value translates to the \n",
    "# minimum difference between neighboring pixels which would cause one of them\n",
    "# to be identified as corrupt pixels. Leaving it blank will generate & print\n",
    "# an auto threshold which will be the average of all the values.\n",
    "# [IMP: This thresholding value depends entirely on the dataframe]\n",
    "\n",
    "\n",
    "# imp.generate_mask() # 1. to find a mask for an image with missing pixels\n",
    "\n",
    "# imp.generate_mask(approximate_mask=True) # 2. to find an approximate mask for an image with missing pixels\n",
    "\n",
    "imp.synthetic_mask(1.0) # 3. to randomly delete pixels\n",
    "\n",
    "# 'r' to reset, 'enter' to continue after drawing mask, 'o/p' to decrease/increase size of cursor\n",
    "# imp.draw_mask() # 4. Draw a mask. LClick: freehand drawing, RClick: draw a rect"
   ]
  },
  {
   "cell_type": "code",
   "execution_count": 9,
   "metadata": {},
   "outputs": [
    {
     "name": "stdout",
     "output_type": "stream",
     "text": [
      "Imputation val =  11082.856844610284\n",
      "HaLRTC:\n",
      "0 1 2 3 4 5 6 7 8 9 10 11 12 13 14 15 16 17 18 19 20 21 22 23 24 25 26 27 28 29 30 31 32 33 34 35 36 "
     ]
    },
    {
     "ename": "KeyboardInterrupt",
     "evalue": "",
     "output_type": "error",
     "traceback": [
      "\u001b[0;31m---------------------------------------------------------------------------\u001b[0m",
      "\u001b[0;31mKeyboardInterrupt\u001b[0m                         Traceback (most recent call last)",
      "\u001b[1;32m/home/shiridi/research_work/Lunar_image_reconstruction/abinadh_cod/imputationClassTester.ipynb Cell 9'\u001b[0m in \u001b[0;36m<cell line: 2>\u001b[0;34m()\u001b[0m\n\u001b[1;32m      <a href='vscode-notebook-cell:/home/shiridi/research_work/Lunar_image_reconstruction/abinadh_cod/imputationClassTester.ipynb#ch0000008?line=0'>1</a>\u001b[0m \u001b[39m# hil = 0->no HiL, 1->run HiL, 2->run ONLY HiL\u001b[39;00m\n\u001b[0;32m----> <a href='vscode-notebook-cell:/home/shiridi/research_work/Lunar_image_reconstruction/abinadh_cod/imputationClassTester.ipynb#ch0000008?line=1'>2</a>\u001b[0m imp\u001b[39m.\u001b[39;49mimpute(speed\u001b[39m=\u001b[39;49m\u001b[39m\"\u001b[39;49m\u001b[39mslow\u001b[39;49m\u001b[39m\"\u001b[39;49m, hil\u001b[39m=\u001b[39;49m\u001b[39m1\u001b[39;49m)\n",
      "File \u001b[0;32m~/research_work/Lunar_image_reconstruction/abinadh_cod/imputation.py:200\u001b[0m, in \u001b[0;36mImputation.impute\u001b[0;34m(self, speed, hil, skip_vis, hil_param)\u001b[0m\n\u001b[1;32m    <a href='file:///home/shiridi/research_work/Lunar_image_reconstruction/abinadh_cod/imputation.py?line=197'>198</a>\u001b[0m \u001b[39m# try:\u001b[39;00m\n\u001b[1;32m    <a href='file:///home/shiridi/research_work/Lunar_image_reconstruction/abinadh_cod/imputation.py?line=198'>199</a>\u001b[0m \u001b[39mself\u001b[39m\u001b[39m.\u001b[39malgo_runtimes\u001b[39m.\u001b[39mappend(time())\n\u001b[0;32m--> <a href='file:///home/shiridi/research_work/Lunar_image_reconstruction/abinadh_cod/imputation.py?line=199'>200</a>\u001b[0m \u001b[39mself\u001b[39m\u001b[39m.\u001b[39mhal \u001b[39m=\u001b[39m haLRTC(\u001b[39mself\u001b[39;49m\u001b[39m.\u001b[39;49mget_corrupt_img(), \u001b[39mself\u001b[39;49m\u001b[39m.\u001b[39;49mcurrent_mask, a, b, itx[\u001b[39m\"\u001b[39;49m\u001b[39mhal\u001b[39;49m\u001b[39m\"\u001b[39;49m])\n\u001b[1;32m    <a href='file:///home/shiridi/research_work/Lunar_image_reconstruction/abinadh_cod/imputation.py?line=200'>201</a>\u001b[0m \u001b[39mprint\u001b[39m(\u001b[39m'\u001b[39m\u001b[39m'\u001b[39m)\n\u001b[1;32m    <a href='file:///home/shiridi/research_work/Lunar_image_reconstruction/abinadh_cod/imputation.py?line=202'>203</a>\u001b[0m \u001b[39mself\u001b[39m\u001b[39m.\u001b[39malgo_runtimes\u001b[39m.\u001b[39mappend(time())\n",
      "File \u001b[0;32m~/research_work/Lunar_image_reconstruction/abinadh_cod/algos.py:408\u001b[0m, in \u001b[0;36mhaLRTC\u001b[0;34m(corrupt_imgorig, mask2D, a, b, K)\u001b[0m\n\u001b[1;32m    <a href='file:///home/shiridi/research_work/Lunar_image_reconstruction/abinadh_cod/algos.py?line=405'>406</a>\u001b[0m     elem \u001b[39m=\u001b[39m tl\u001b[39m.\u001b[39munfold(corrupt_img, i)\n\u001b[1;32m    <a href='file:///home/shiridi/research_work/Lunar_image_reconstruction/abinadh_cod/algos.py?line=406'>407</a>\u001b[0m     elem \u001b[39m=\u001b[39m np\u001b[39m.\u001b[39madd(elem,tl\u001b[39m.\u001b[39munfold(np\u001b[39m.\u001b[39msqueeze(Yi[:, :, :, i]), i) \u001b[39m/\u001b[39m p,out \u001b[39m=\u001b[39m elem, casting\u001b[39m=\u001b[39m\u001b[39m\"\u001b[39m\u001b[39munsafe\u001b[39m\u001b[39m\"\u001b[39m)\n\u001b[0;32m--> <a href='file:///home/shiridi/research_work/Lunar_image_reconstruction/abinadh_cod/algos.py?line=407'>408</a>\u001b[0m     elem \u001b[39m=\u001b[39m shrinkage(elem, a[i] \u001b[39m/\u001b[39;49m p)\n\u001b[1;32m    <a href='file:///home/shiridi/research_work/Lunar_image_reconstruction/abinadh_cod/algos.py?line=408'>409</a>\u001b[0m     Mi[:,:,:,i] \u001b[39m=\u001b[39m tl\u001b[39m.\u001b[39mfold(elem, i, imSize)\n\u001b[1;32m    <a href='file:///home/shiridi/research_work/Lunar_image_reconstruction/abinadh_cod/algos.py?line=410'>411</a>\u001b[0m corrupt_img \u001b[39m=\u001b[39m (\u001b[39m1\u001b[39m\u001b[39m/\u001b[39mArrSize[\u001b[39m3\u001b[39m]) \u001b[39m*\u001b[39m np\u001b[39m.\u001b[39msum(Mi \u001b[39m-\u001b[39m Yi\u001b[39m/\u001b[39mp, ArrSize[\u001b[39m3\u001b[39m])\n",
      "File \u001b[0;32m~/research_work/Lunar_image_reconstruction/abinadh_cod/helpers.py:188\u001b[0m, in \u001b[0;36mshrinkage\u001b[0;34m(X, t)\u001b[0m\n\u001b[1;32m    <a href='file:///home/shiridi/research_work/Lunar_image_reconstruction/abinadh_cod/helpers.py?line=183'>184</a>\u001b[0m \u001b[39mdef\u001b[39;00m \u001b[39mshrinkage\u001b[39m(X, t):\n\u001b[1;32m    <a href='file:///home/shiridi/research_work/Lunar_image_reconstruction/abinadh_cod/helpers.py?line=184'>185</a>\u001b[0m     \u001b[39m'''\u001b[39;00m\n\u001b[1;32m    <a href='file:///home/shiridi/research_work/Lunar_image_reconstruction/abinadh_cod/helpers.py?line=185'>186</a>\u001b[0m \u001b[39m        Shrinkage operator\u001b[39;00m\n\u001b[1;32m    <a href='file:///home/shiridi/research_work/Lunar_image_reconstruction/abinadh_cod/helpers.py?line=186'>187</a>\u001b[0m \u001b[39m    '''\u001b[39;00m\n\u001b[0;32m--> <a href='file:///home/shiridi/research_work/Lunar_image_reconstruction/abinadh_cod/helpers.py?line=187'>188</a>\u001b[0m     U, Sig, VT \u001b[39m=\u001b[39m np\u001b[39m.\u001b[39;49mlinalg\u001b[39m.\u001b[39;49msvd(X,full_matrices\u001b[39m=\u001b[39;49m\u001b[39mFalse\u001b[39;49;00m)\n\u001b[1;32m    <a href='file:///home/shiridi/research_work/Lunar_image_reconstruction/abinadh_cod/helpers.py?line=189'>190</a>\u001b[0m     Temp \u001b[39m=\u001b[39m np\u001b[39m.\u001b[39mzeros((U\u001b[39m.\u001b[39mshape[\u001b[39m1\u001b[39m], VT\u001b[39m.\u001b[39mshape[\u001b[39m0\u001b[39m]))\n\u001b[1;32m    <a href='file:///home/shiridi/research_work/Lunar_image_reconstruction/abinadh_cod/helpers.py?line=190'>191</a>\u001b[0m     \u001b[39mfor\u001b[39;00m i \u001b[39min\u001b[39;00m \u001b[39mrange\u001b[39m(\u001b[39mlen\u001b[39m(Sig)):\n",
      "File \u001b[0;32m<__array_function__ internals>:180\u001b[0m, in \u001b[0;36msvd\u001b[0;34m(*args, **kwargs)\u001b[0m\n",
      "File \u001b[0;32m~/.local/lib/python3.8/site-packages/numpy/linalg/linalg.py:1648\u001b[0m, in \u001b[0;36msvd\u001b[0;34m(a, full_matrices, compute_uv, hermitian)\u001b[0m\n\u001b[1;32m   <a href='file:///home/shiridi/.local/lib/python3.8/site-packages/numpy/linalg/linalg.py?line=1644'>1645</a>\u001b[0m         gufunc \u001b[39m=\u001b[39m _umath_linalg\u001b[39m.\u001b[39msvd_n_s\n\u001b[1;32m   <a href='file:///home/shiridi/.local/lib/python3.8/site-packages/numpy/linalg/linalg.py?line=1646'>1647</a>\u001b[0m signature \u001b[39m=\u001b[39m \u001b[39m'\u001b[39m\u001b[39mD->DdD\u001b[39m\u001b[39m'\u001b[39m \u001b[39mif\u001b[39;00m isComplexType(t) \u001b[39melse\u001b[39;00m \u001b[39m'\u001b[39m\u001b[39md->ddd\u001b[39m\u001b[39m'\u001b[39m\n\u001b[0;32m-> <a href='file:///home/shiridi/.local/lib/python3.8/site-packages/numpy/linalg/linalg.py?line=1647'>1648</a>\u001b[0m u, s, vh \u001b[39m=\u001b[39m gufunc(a, signature\u001b[39m=\u001b[39;49msignature, extobj\u001b[39m=\u001b[39;49mextobj)\n\u001b[1;32m   <a href='file:///home/shiridi/.local/lib/python3.8/site-packages/numpy/linalg/linalg.py?line=1648'>1649</a>\u001b[0m u \u001b[39m=\u001b[39m u\u001b[39m.\u001b[39mastype(result_t, copy\u001b[39m=\u001b[39m\u001b[39mFalse\u001b[39;00m)\n\u001b[1;32m   <a href='file:///home/shiridi/.local/lib/python3.8/site-packages/numpy/linalg/linalg.py?line=1649'>1650</a>\u001b[0m s \u001b[39m=\u001b[39m s\u001b[39m.\u001b[39mastype(_realType(result_t), copy\u001b[39m=\u001b[39m\u001b[39mFalse\u001b[39;00m)\n",
      "\u001b[0;31mKeyboardInterrupt\u001b[0m: "
     ]
    }
   ],
   "source": [
    "# hil = 0->no HiL, 1->run HiL, 2->run ONLY HiL\n",
    "imp.impute(speed=\"slow\", hil=1) # hiL is for CMTF4SI"
   ]
  },
  {
   "cell_type": "code",
   "execution_count": 13,
   "metadata": {},
   "outputs": [],
   "source": [
    "test = imp.get_best_np() # np array of the best imputed image"
   ]
  },
  {
   "cell_type": "code",
   "execution_count": 25,
   "metadata": {},
   "outputs": [
    {
     "ename": "Exception",
     "evalue": "Imputation not done yet!",
     "output_type": "error",
     "traceback": [
      "\u001b[0;31m---------------------------------------------------------------------------\u001b[0m",
      "\u001b[0;31mException\u001b[0m                                 Traceback (most recent call last)",
      "\u001b[1;32m/home/shiridi/research_work/Lunar_image_reconstruction/abinadh_cod/imputationClassTester.ipynb Cell 11'\u001b[0m in \u001b[0;36m<cell line: 3>\u001b[0;34m()\u001b[0m\n\u001b[1;32m      <a href='vscode-notebook-cell:/home/shiridi/research_work/Lunar_image_reconstruction/abinadh_cod/imputationClassTester.ipynb#ch0000010?line=0'>1</a>\u001b[0m \u001b[39m# NOTE: Please consider RSE values only when the original image is NOT corupt.\u001b[39;00m\n\u001b[1;32m      <a href='vscode-notebook-cell:/home/shiridi/research_work/Lunar_image_reconstruction/abinadh_cod/imputationClassTester.ipynb#ch0000010?line=1'>2</a>\u001b[0m \u001b[39m# Otherwise those values are meaningless.\u001b[39;00m\n\u001b[0;32m----> <a href='vscode-notebook-cell:/home/shiridi/research_work/Lunar_image_reconstruction/abinadh_cod/imputationClassTester.ipynb#ch0000010?line=2'>3</a>\u001b[0m imp\u001b[39m.\u001b[39;49mvisualize()\n",
      "File \u001b[0;32m~/research_work/Lunar_image_reconstruction/abinadh_cod/imputation.py:285\u001b[0m, in \u001b[0;36mImputation.visualize\u001b[0;34m(self)\u001b[0m\n\u001b[1;32m    <a href='file:///home/shiridi/research_work/Lunar_image_reconstruction/abinadh_cod/imputation.py?line=280'>281</a>\u001b[0m \u001b[39m'''\u001b[39;00m\n\u001b[1;32m    <a href='file:///home/shiridi/research_work/Lunar_image_reconstruction/abinadh_cod/imputation.py?line=281'>282</a>\u001b[0m \u001b[39m    def: Visualizes the results\u001b[39;00m\n\u001b[1;32m    <a href='file:///home/shiridi/research_work/Lunar_image_reconstruction/abinadh_cod/imputation.py?line=282'>283</a>\u001b[0m \u001b[39m'''\u001b[39;00m\n\u001b[1;32m    <a href='file:///home/shiridi/research_work/Lunar_image_reconstruction/abinadh_cod/imputation.py?line=283'>284</a>\u001b[0m \u001b[39mif\u001b[39;00m \u001b[39mnot\u001b[39;00m \u001b[39mself\u001b[39m\u001b[39m.\u001b[39mis_imputation_done:\n\u001b[0;32m--> <a href='file:///home/shiridi/research_work/Lunar_image_reconstruction/abinadh_cod/imputation.py?line=284'>285</a>\u001b[0m     \u001b[39mraise\u001b[39;00m \u001b[39mException\u001b[39;00m(\u001b[39m\"\u001b[39m\u001b[39mImputation not done yet!\u001b[39m\u001b[39m\"\u001b[39m)\n\u001b[1;32m    <a href='file:///home/shiridi/research_work/Lunar_image_reconstruction/abinadh_cod/imputation.py?line=286'>287</a>\u001b[0m rows \u001b[39m=\u001b[39m (\u001b[39mlen\u001b[39m(\u001b[39mself\u001b[39m\u001b[39m.\u001b[39mvisualization_arr)\u001b[39m+\u001b[39m\u001b[39m1\u001b[39m) \u001b[39m/\u001b[39m\u001b[39m/\u001b[39m \u001b[39m2\u001b[39m\n\u001b[1;32m    <a href='file:///home/shiridi/research_work/Lunar_image_reconstruction/abinadh_cod/imputation.py?line=287'>288</a>\u001b[0m cols \u001b[39m=\u001b[39m \u001b[39m2\u001b[39m\n",
      "\u001b[0;31mException\u001b[0m: Imputation not done yet!"
     ]
    }
   ],
   "source": [
    "# NOTE: Please consider RSE values only when the original image is NOT corupt.\n",
    "# Otherwise those values are meaningless.\n",
    "imp.visualize() "
   ]
  },
  {
   "cell_type": "code",
   "execution_count": 32,
   "metadata": {},
   "outputs": [],
   "source": [
    "def CreateGeoTiff(outRaster, data, geo_transform, projection):\n",
    "    driver = gdal.GetDriverByName('GTiff')\n",
    "    no_bands,rows,cols = data.shape\n",
    "    DataSet = driver.Create(outRaster, cols, rows, no_bands, gdal.GDT_Float32)\n",
    "    DataSet.SetGeoTransform(geo_transform)\n",
    "    DataSet.SetProjection(projection)\n",
    "    for i, image in enumerate(data, 1):\n",
    "        # print(i,image)\n",
    "        DataSet.GetRasterBand(i).WriteArray(image)\n",
    "    DataSet.FlushCache()\n",
    "    DataSet = None\n",
    "import os\n",
    "os.system(\"mkdir kaguga_silRTC_20\")\n",
    "CreateGeoTiff(\"kaguga_silRTC_20/Area1_MI_MAP_03_N22E196N21E197SC.tif\",imp.sil,tifread[0],tifread[1])"
   ]
  }
 ],
 "metadata": {
  "kernelspec": {
   "display_name": "datasc3.7",
   "language": "python",
   "name": "python3"
  },
  "language_info": {
   "codemirror_mode": {
    "name": "ipython",
    "version": 3
   },
   "file_extension": ".py",
   "mimetype": "text/x-python",
   "name": "python",
   "nbconvert_exporter": "python",
   "pygments_lexer": "ipython3",
   "version": "3.8.10"
  },
  "orig_nbformat": 4,
  "vscode": {
   "interpreter": {
    "hash": "02aef83a5d35cdbca4d528b8446c0bbed523ade5a1aaaf2ce3cb056d40e55032"
   }
  }
 },
 "nbformat": 4,
 "nbformat_minor": 2
}
